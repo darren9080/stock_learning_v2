{
 "cells": [
  {
   "cell_type": "code",
   "execution_count": 4,
   "metadata": {
    "collapsed": true
   },
   "outputs": [],
   "source": [
    "import pandas as pd\n",
    "import numpy as np"
   ]
  },
  {
   "cell_type": "code",
   "execution_count": 5,
   "metadata": {
    "pycharm": {
     "name": "#%%\n"
    }
   },
   "outputs": [
    {
     "name": "stdout",
     "output_type": "stream",
     "text": [
      "2357\n",
      "667\n"
     ]
    },
    {
     "data": {
      "text/plain": "      종목코드     회사명        상장일\n2   001250   GS글로벌 1976-06-26\n7   010060     OCI 1985-07-09\n10  001740  SK네트웍스 1977-06-30\n12  011810     STX 1990-09-12\n13  024070  WISCOM 1996-11-22",
      "text/html": "<div>\n<style scoped>\n    .dataframe tbody tr th:only-of-type {\n        vertical-align: middle;\n    }\n\n    .dataframe tbody tr th {\n        vertical-align: top;\n    }\n\n    .dataframe thead th {\n        text-align: right;\n    }\n</style>\n<table border=\"1\" class=\"dataframe\">\n  <thead>\n    <tr style=\"text-align: right;\">\n      <th></th>\n      <th>종목코드</th>\n      <th>회사명</th>\n      <th>상장일</th>\n    </tr>\n  </thead>\n  <tbody>\n    <tr>\n      <th>2</th>\n      <td>001250</td>\n      <td>GS글로벌</td>\n      <td>1976-06-26</td>\n    </tr>\n    <tr>\n      <th>7</th>\n      <td>010060</td>\n      <td>OCI</td>\n      <td>1985-07-09</td>\n    </tr>\n    <tr>\n      <th>10</th>\n      <td>001740</td>\n      <td>SK네트웍스</td>\n      <td>1977-06-30</td>\n    </tr>\n    <tr>\n      <th>12</th>\n      <td>011810</td>\n      <td>STX</td>\n      <td>1990-09-12</td>\n    </tr>\n    <tr>\n      <th>13</th>\n      <td>024070</td>\n      <td>WISCOM</td>\n      <td>1996-11-22</td>\n    </tr>\n  </tbody>\n</table>\n</div>"
     },
     "execution_count": 5,
     "metadata": {},
     "output_type": "execute_result"
    }
   ],
   "source": [
    "corps = pd.read_pickle(\"../data/corps/2020/corps_2020-05-08.pkl\")\n",
    "print(len(corps.index))\n",
    "old_corps = corps[corps['상장일'] < '2000-03-20' ]\n",
    "print(len(old_corps.index))\n",
    "old_corps.head()"
   ]
  },
  {
   "cell_type": "code",
   "execution_count": 7,
   "outputs": [
    {
     "data": {
      "text/plain": "        종목코드   회사명        상장일\n1838  007110  일신석재 1986-03-04",
      "text/html": "<div>\n<style scoped>\n    .dataframe tbody tr th:only-of-type {\n        vertical-align: middle;\n    }\n\n    .dataframe tbody tr th {\n        vertical-align: top;\n    }\n\n    .dataframe thead th {\n        text-align: right;\n    }\n</style>\n<table border=\"1\" class=\"dataframe\">\n  <thead>\n    <tr style=\"text-align: right;\">\n      <th></th>\n      <th>종목코드</th>\n      <th>회사명</th>\n      <th>상장일</th>\n    </tr>\n  </thead>\n  <tbody>\n    <tr>\n      <th>1838</th>\n      <td>007110</td>\n      <td>일신석재</td>\n      <td>1986-03-04</td>\n    </tr>\n  </tbody>\n</table>\n</div>"
     },
     "execution_count": 7,
     "metadata": {},
     "output_type": "execute_result"
    }
   ],
   "source": [
    "corps.query(\"회사명=='일신석재'\")"
   ],
   "metadata": {
    "collapsed": false,
    "pycharm": {
     "name": "#%%\n"
    }
   }
  },
  {
   "cell_type": "code",
   "execution_count": 5,
   "metadata": {
    "pycharm": {
     "is_executing": false,
     "name": "#%%\n"
    }
   },
   "outputs": [
    {
     "data": {
      "text/plain": [
       "종목코드    object\n",
       "시가총액     int64\n",
       "dtype: object"
      ]
     },
     "execution_count": 5,
     "metadata": {},
     "output_type": "execute_result"
    }
   ],
   "source": [
    "market_cap = pd.read_pickle(\"../data/corps_market_cap/2020/market_cap_2020-03-19.pkl\")\n",
    "market_cap.dtypes"
   ]
  },
  {
   "cell_type": "code",
   "execution_count": 6,
   "metadata": {
    "pycharm": {
     "is_executing": false,
     "name": "#%%\n"
    }
   },
   "outputs": [
    {
     "name": "stdout",
     "text": [
      "date      datetime64[ns]\n",
      "close            float64\n",
      "open             float64\n",
      "high             float64\n",
      "low              float64\n",
      "volume             int64\n",
      "dtype: object\n"
     ],
     "output_type": "stream"
    }
   ],
   "source": [
    "stock = pd.read_pickle(\"../data/stocks/016250.pkl\")\n",
    "print(stock.dtypes)\n",
    "stock.sort_values(by='date', ascending=False).reset_index(drop=True, inplace=True)"
   ]
  },
  {
   "cell_type": "code",
   "execution_count": 17,
   "metadata": {
    "pycharm": {
     "is_executing": false,
     "name": "#%%\n"
    }
   },
   "outputs": [
    {
     "data": {
      "text/html": [
       "<div>\n",
       "<style scoped>\n",
       "    .dataframe tbody tr th:only-of-type {\n",
       "        vertical-align: middle;\n",
       "    }\n",
       "\n",
       "    .dataframe tbody tr th {\n",
       "        vertical-align: top;\n",
       "    }\n",
       "\n",
       "    .dataframe thead th {\n",
       "        text-align: right;\n",
       "    }\n",
       "</style>\n",
       "<table border=\"1\" class=\"dataframe\">\n",
       "  <thead>\n",
       "    <tr style=\"text-align: right;\">\n",
       "      <th></th>\n",
       "      <th>date</th>\n",
       "      <th>close</th>\n",
       "      <th>open</th>\n",
       "      <th>high</th>\n",
       "      <th>low</th>\n",
       "      <th>volume</th>\n",
       "    </tr>\n",
       "  </thead>\n",
       "  <tbody>\n",
       "    <tr>\n",
       "      <th>0</th>\n",
       "      <td>1999-12-28</td>\n",
       "      <td>7480.0</td>\n",
       "      <td>7580.0</td>\n",
       "      <td>8500.0</td>\n",
       "      <td>7480.0</td>\n",
       "      <td>110874</td>\n",
       "    </tr>\n",
       "    <tr>\n",
       "      <th>1</th>\n",
       "      <td>2000-01-04</td>\n",
       "      <td>6590.0</td>\n",
       "      <td>6590.0</td>\n",
       "      <td>6590.0</td>\n",
       "      <td>6590.0</td>\n",
       "      <td>262</td>\n",
       "    </tr>\n",
       "    <tr>\n",
       "      <th>2</th>\n",
       "      <td>2000-01-05</td>\n",
       "      <td>6800.0</td>\n",
       "      <td>5800.0</td>\n",
       "      <td>7000.0</td>\n",
       "      <td>5800.0</td>\n",
       "      <td>15440</td>\n",
       "    </tr>\n",
       "    <tr>\n",
       "      <th>3</th>\n",
       "      <td>2000-01-06</td>\n",
       "      <td>6670.0</td>\n",
       "      <td>6030.0</td>\n",
       "      <td>6780.0</td>\n",
       "      <td>5990.0</td>\n",
       "      <td>5798</td>\n",
       "    </tr>\n",
       "    <tr>\n",
       "      <th>4</th>\n",
       "      <td>2000-01-07</td>\n",
       "      <td>5870.0</td>\n",
       "      <td>5870.0</td>\n",
       "      <td>5880.0</td>\n",
       "      <td>5870.0</td>\n",
       "      <td>15189</td>\n",
       "    </tr>\n",
       "  </tbody>\n",
       "</table>\n",
       "</div>"
      ],
      "text/plain": [
       "        date   close    open    high     low  volume\n",
       "0 1999-12-28  7480.0  7580.0  8500.0  7480.0  110874\n",
       "1 2000-01-04  6590.0  6590.0  6590.0  6590.0     262\n",
       "2 2000-01-05  6800.0  5800.0  7000.0  5800.0   15440\n",
       "3 2000-01-06  6670.0  6030.0  6780.0  5990.0    5798\n",
       "4 2000-01-07  5870.0  5870.0  5880.0  5870.0   15189"
      ]
     },
     "execution_count": 17,
     "metadata": {},
     "output_type": "execute_result"
    }
   ],
   "source": [
    "stock.head()"
   ]
  },
  {
   "cell_type": "code",
   "execution_count": 7,
   "outputs": [
    {
     "data": {
      "text/plain": "            date    close     open     high      low  volume\n14861 1999-08-23  26800.0  27400.0  27400.0  26100.0   42220\n14862 1999-08-20  27000.0  25000.0  28000.0  24000.0  127800\n14863 1999-08-19  25850.0  22700.0  25850.0  22700.0   96620\n14864 1999-08-18  22500.0  21600.0  23500.0  21100.0   88940\n14865 1999-08-17  22500.0  25600.0  26200.0  22500.0   74700",
      "text/html": "<div>\n<style scoped>\n    .dataframe tbody tr th:only-of-type {\n        vertical-align: middle;\n    }\n\n    .dataframe tbody tr th {\n        vertical-align: top;\n    }\n\n    .dataframe thead th {\n        text-align: right;\n    }\n</style>\n<table border=\"1\" class=\"dataframe\">\n  <thead>\n    <tr style=\"text-align: right;\">\n      <th></th>\n      <th>date</th>\n      <th>close</th>\n      <th>open</th>\n      <th>high</th>\n      <th>low</th>\n      <th>volume</th>\n    </tr>\n  </thead>\n  <tbody>\n    <tr>\n      <th>14861</th>\n      <td>1999-08-23</td>\n      <td>26800.0</td>\n      <td>27400.0</td>\n      <td>27400.0</td>\n      <td>26100.0</td>\n      <td>42220</td>\n    </tr>\n    <tr>\n      <th>14862</th>\n      <td>1999-08-20</td>\n      <td>27000.0</td>\n      <td>25000.0</td>\n      <td>28000.0</td>\n      <td>24000.0</td>\n      <td>127800</td>\n    </tr>\n    <tr>\n      <th>14863</th>\n      <td>1999-08-19</td>\n      <td>25850.0</td>\n      <td>22700.0</td>\n      <td>25850.0</td>\n      <td>22700.0</td>\n      <td>96620</td>\n    </tr>\n    <tr>\n      <th>14864</th>\n      <td>1999-08-18</td>\n      <td>22500.0</td>\n      <td>21600.0</td>\n      <td>23500.0</td>\n      <td>21100.0</td>\n      <td>88940</td>\n    </tr>\n    <tr>\n      <th>14865</th>\n      <td>1999-08-17</td>\n      <td>22500.0</td>\n      <td>25600.0</td>\n      <td>26200.0</td>\n      <td>22500.0</td>\n      <td>74700</td>\n    </tr>\n  </tbody>\n</table>\n</div>"
     },
     "metadata": {},
     "output_type": "execute_result",
     "execution_count": 7
    }
   ],
   "source": [
    "stock = pd.read_pickle(\"../data/stocks/006840.pkl\")\n",
    "stock.tail()"
   ],
   "metadata": {
    "collapsed": false,
    "pycharm": {
     "name": "#%%\n",
     "is_executing": false
    }
   }
  },
  {
   "cell_type": "code",
   "execution_count": 8,
   "metadata": {
    "pycharm": {
     "is_executing": false,
     "name": "#%%\n"
    }
   },
   "outputs": [],
   "source": [
    "from corp_loader import CorpLoader\n",
    "corp = CorpLoader()\n"
   ]
  },
  {
   "cell_type": "code",
   "execution_count": 9,
   "metadata": {
    "pycharm": {
     "is_executing": false,
     "name": "#%%\n"
    }
   },
   "outputs": [
    {
     "data": {
      "text/plain": "670"
     },
     "metadata": {},
     "output_type": "execute_result",
     "execution_count": 9
    }
   ],
   "source": [
    "corps_cap = corp.get_crops_with_market_cap()\n",
    "len(corps_cap.index)"
   ]
  },
  {
   "cell_type": "code",
   "execution_count": 10,
   "outputs": [
    {
     "data": {
      "text/plain": "     종목코드     회사명        상장일           시가총액\n0  006800  미래에셋대우 1975-09-30  4101960790000\n1  000660  SK하이닉스 1996-12-26  3657652050000\n2  015760  한국전력공사 1989-08-10  3209820385000\n3  010140   삼성중공업 1994-01-28  3150574225000\n4  000270   기아자동차 1973-07-21  2139316735000",
      "text/html": "<div>\n<style scoped>\n    .dataframe tbody tr th:only-of-type {\n        vertical-align: middle;\n    }\n\n    .dataframe tbody tr th {\n        vertical-align: top;\n    }\n\n    .dataframe thead th {\n        text-align: right;\n    }\n</style>\n<table border=\"1\" class=\"dataframe\">\n  <thead>\n    <tr style=\"text-align: right;\">\n      <th></th>\n      <th>종목코드</th>\n      <th>회사명</th>\n      <th>상장일</th>\n      <th>시가총액</th>\n    </tr>\n  </thead>\n  <tbody>\n    <tr>\n      <th>0</th>\n      <td>006800</td>\n      <td>미래에셋대우</td>\n      <td>1975-09-30</td>\n      <td>4101960790000</td>\n    </tr>\n    <tr>\n      <th>1</th>\n      <td>000660</td>\n      <td>SK하이닉스</td>\n      <td>1996-12-26</td>\n      <td>3657652050000</td>\n    </tr>\n    <tr>\n      <th>2</th>\n      <td>015760</td>\n      <td>한국전력공사</td>\n      <td>1989-08-10</td>\n      <td>3209820385000</td>\n    </tr>\n    <tr>\n      <th>3</th>\n      <td>010140</td>\n      <td>삼성중공업</td>\n      <td>1994-01-28</td>\n      <td>3150574225000</td>\n    </tr>\n    <tr>\n      <th>4</th>\n      <td>000270</td>\n      <td>기아자동차</td>\n      <td>1973-07-21</td>\n      <td>2139316735000</td>\n    </tr>\n  </tbody>\n</table>\n</div>"
     },
     "metadata": {},
     "output_type": "execute_result",
     "execution_count": 10
    }
   ],
   "source": [
    "corps_cap.head()"
   ],
   "metadata": {
    "collapsed": false,
    "pycharm": {
     "name": "#%%\n",
     "is_executing": false
    }
   }
  },
  {
   "cell_type": "code",
   "execution_count": 8,
   "outputs": [
    {
     "data": {
      "text/plain": "       종목코드    회사명        상장일         시가총액\n137  000060  메리츠화재 1956-07-02  56840000000\n184  000070  삼양홀딩스 1968-12-27  44341645000\n268  000020   동화약품 1976-03-24  27931470000\n303  000040  KR모터스 1976-05-25  23680509000\n431  000050     경방 1956-03-03  13707635000",
      "text/html": "<div>\n<style scoped>\n    .dataframe tbody tr th:only-of-type {\n        vertical-align: middle;\n    }\n\n    .dataframe tbody tr th {\n        vertical-align: top;\n    }\n\n    .dataframe thead th {\n        text-align: right;\n    }\n</style>\n<table border=\"1\" class=\"dataframe\">\n  <thead>\n    <tr style=\"text-align: right;\">\n      <th></th>\n      <th>종목코드</th>\n      <th>회사명</th>\n      <th>상장일</th>\n      <th>시가총액</th>\n    </tr>\n  </thead>\n  <tbody>\n    <tr>\n      <th>137</th>\n      <td>000060</td>\n      <td>메리츠화재</td>\n      <td>1956-07-02</td>\n      <td>56840000000</td>\n    </tr>\n    <tr>\n      <th>184</th>\n      <td>000070</td>\n      <td>삼양홀딩스</td>\n      <td>1968-12-27</td>\n      <td>44341645000</td>\n    </tr>\n    <tr>\n      <th>268</th>\n      <td>000020</td>\n      <td>동화약품</td>\n      <td>1976-03-24</td>\n      <td>27931470000</td>\n    </tr>\n    <tr>\n      <th>303</th>\n      <td>000040</td>\n      <td>KR모터스</td>\n      <td>1976-05-25</td>\n      <td>23680509000</td>\n    </tr>\n    <tr>\n      <th>431</th>\n      <td>000050</td>\n      <td>경방</td>\n      <td>1956-03-03</td>\n      <td>13707635000</td>\n    </tr>\n  </tbody>\n</table>\n</div>"
     },
     "metadata": {},
     "output_type": "execute_result",
     "execution_count": 8
    }
   ],
   "source": [
    "top = corps_cap[corps_cap['종목코드'] < '000100'].reset_index(drop=True)\n",
    "corps_cap[corps_cap['종목코드'].isin(top['종목코드'])]"
   ],
   "metadata": {
    "collapsed": false,
    "pycharm": {
     "name": "#%%\n",
     "is_executing": false
    }
   }
  },
  {
   "cell_type": "code",
   "execution_count": 6,
   "outputs": [
    {
     "data": {
      "text/plain": "63782960609500"
     },
     "metadata": {},
     "output_type": "execute_result",
     "execution_count": 6
    }
   ],
   "source": [
    "np.sum(corps_cap[\"시가총액\"])"
   ],
   "metadata": {
    "collapsed": false,
    "pycharm": {
     "name": "#%%\n",
     "is_executing": false
    }
   }
  },
  {
   "cell_type": "code",
   "execution_count": 15,
   "outputs": [
    {
     "data": {
      "text/plain": "175"
     },
     "metadata": {},
     "output_type": "execute_result",
     "execution_count": 15
    }
   ],
   "source": [
    "corps = corp.get_corps_all(40)\n",
    "len(corps.index)"
   ],
   "metadata": {
    "collapsed": false,
    "pycharm": {
     "name": "#%%\n",
     "is_executing": false
    }
   }
  },
  {
   "cell_type": "code",
   "execution_count": 10,
   "outputs": [
    {
     "data": {
      "text/plain": "36"
     },
     "metadata": {},
     "output_type": "execute_result",
     "execution_count": 10
    }
   ],
   "source": [
    "result = pd.read_csv(\"../results/pred_data/dnn_result_data(corp_code=000100).txt\")\n",
    "np.sum (result.close > result.predict)\n",
    "\n"
   ],
   "metadata": {
    "collapsed": false,
    "pycharm": {
     "name": "#%%\n",
     "is_executing": false
    }
   }
  }
 ],
 "metadata": {
  "kernelspec": {
   "display_name": "Python 3",
   "language": "python",
   "name": "python3"
  },
  "language_info": {
   "codemirror_mode": {
    "name": "ipython",
    "version": 3
   },
   "file_extension": ".py",
   "mimetype": "text/x-python",
   "name": "python",
   "nbconvert_exporter": "python",
   "pygments_lexer": "ipython3",
   "version": "3.7.4"
  }
 },
 "nbformat": 4,
 "nbformat_minor": 1
}